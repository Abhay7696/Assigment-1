{
 "cells": [
  {
   "cell_type": "code",
   "execution_count": null,
   "id": "8f8358eb-95aa-4d7f-8c4a-3e99bf064ea8",
   "metadata": {},
   "outputs": [],
   "source": [
    "1.  who developed python programming language ?"
   ]
  },
  {
   "cell_type": "code",
   "execution_count": null,
   "id": "8c7bb7ad-b934-4686-9715-dc357f1eb3ef",
   "metadata": {},
   "outputs": [],
   "source": [
    "\n",
    "Ans:   Guido van Rossum began working on Python in the late 1980s as a successor to the ABC programming language and first released it in 1991 as\n",
    "Python 0.9.0.\n"
   ]
  },
  {
   "cell_type": "code",
   "execution_count": null,
   "id": "6f67a573-bca5-41a6-9db3-136a4f2543b5",
   "metadata": {},
   "outputs": [],
   "source": [
    "2.  which type of programming language does pythan support ?"
   ]
  },
  {
   "cell_type": "code",
   "execution_count": null,
   "id": "1d4cacde-27e5-4da8-bf3a-88b11878ae32",
   "metadata": {},
   "outputs": [],
   "source": [
    " Ans:  It supports multiple programming paradigms beyond object-oriented programming, such as procedural and functional programming."
   ]
  },
  {
   "cell_type": "code",
   "execution_count": null,
   "id": "9ebc941c-dd6b-4245-b66c-d7043a382769",
   "metadata": {},
   "outputs": [],
   "source": [
    "3. Is python case sensitive when dealing with identifiers ?"
   ]
  },
  {
   "cell_type": "code",
   "execution_count": null,
   "id": "8d0013e7-0f82-4f1c-b223-23d46e3a547a",
   "metadata": {},
   "outputs": [],
   "source": [
    "Ans: Yes, Python is a case-sensitive language, i.e., it treats uppercase and lowercase characters differently. This applies to identifiers too. \n",
    "You must avoid using the same name with different cases while naming identifiers."
   ]
  },
  {
   "cell_type": "code",
   "execution_count": null,
   "id": "81e00b1a-9021-4168-9836-7ad558621ca0",
   "metadata": {},
   "outputs": [],
   "source": [
    "4. what is the correct extension of the python file ?"
   ]
  },
  {
   "cell_type": "code",
   "execution_count": null,
   "id": "b524a548-d524-4cb8-ae8d-d65a88307a92",
   "metadata": {},
   "outputs": [],
   "source": [
    "Ans: The correct extension of the python file is .py"
   ]
  },
  {
   "cell_type": "code",
   "execution_count": null,
   "id": "c84dd4f8-6a45-4c6b-b3c8-311b138e86d1",
   "metadata": {},
   "outputs": [],
   "source": [
    "5. Is python code compiled or interpreted?"
   ]
  },
  {
   "cell_type": "code",
   "execution_count": null,
   "id": "f6ae58ac-b837-4443-b1aa-eac54899ecc2",
   "metadata": {},
   "outputs": [],
   "source": [
    "Ans: Python is an interpreted, object-oriented, high-level programming language."
   ]
  },
  {
   "cell_type": "code",
   "execution_count": null,
   "id": "2a874867-c20d-492c-99c3-63d21b8c98c2",
   "metadata": {},
   "outputs": [],
   "source": [
    "6. Name a few blocks of code used to defined in python language ?"
   ]
  },
  {
   "cell_type": "code",
   "execution_count": null,
   "id": "ae871a57-0ab2-47b9-8703-e7f52ba8ba8e",
   "metadata": {},
   "outputs": [],
   "source": [
    "Ans: Indentation is used to define a block of code in python."
   ]
  },
  {
   "cell_type": "code",
   "execution_count": null,
   "id": "f0302c59-3102-4cde-a12b-5510aed524c8",
   "metadata": {},
   "outputs": [],
   "source": [
    "7. state a character used to give single-line comments in python ? "
   ]
  },
  {
   "cell_type": "code",
   "execution_count": null,
   "id": "ecf1f25e-b3db-445d-9216-cf9d2384f1df",
   "metadata": {},
   "outputs": [],
   "source": [
    "Ans:  We can write a single-line comment by adding a single # character before any statement or line of code."
   ]
  },
  {
   "cell_type": "code",
   "execution_count": null,
   "id": "45e504df-8a0f-4d04-be1c-1bed7bb5bfa0",
   "metadata": {},
   "outputs": [],
   "source": [
    "8. Mention functions which can help us to find the version of python that we are currently working on ?"
   ]
  },
  {
   "cell_type": "code",
   "execution_count": null,
   "id": "84d0337d-7490-48a0-a688-063f632b0eb1",
   "metadata": {},
   "outputs": [],
   "source": [
    "Ans: The function sys. version can help us to find the version of python that we are currently working on."
   ]
  },
  {
   "cell_type": "code",
   "execution_count": null,
   "id": "c39b7681-3265-4727-a1e5-dc41f644ed98",
   "metadata": {},
   "outputs": [],
   "source": [
    "9. python supports the creation of anonymous functions at runtime, using a construct called ------"
   ]
  },
  {
   "cell_type": "code",
   "execution_count": null,
   "id": "17fffa5f-0af6-4879-8c00-64f5dd160324",
   "metadata": {},
   "outputs": [],
   "source": [
    "Ans: It uses a construct called \"lambda\"."
   ]
  },
  {
   "cell_type": "code",
   "execution_count": null,
   "id": "5e069f5b-41d4-4c26-8586-426d433ae8ec",
   "metadata": {},
   "outputs": [],
   "source": [
    "10. what does pip stand for python?"
   ]
  },
  {
   "cell_type": "code",
   "execution_count": null,
   "id": "a2aa83c6-376c-45b3-9d75-18d99f0f6a17",
   "metadata": {},
   "outputs": [],
   "source": [
    "Ans: pip stands for preferred installer program. "
   ]
  },
  {
   "cell_type": "code",
   "execution_count": null,
   "id": "50584ef9-40fa-4023-a02e-1ab24d36f629",
   "metadata": {},
   "outputs": [],
   "source": [
    "11. Mention a few built-in functions in python?"
   ]
  },
  {
   "cell_type": "code",
   "execution_count": null,
   "id": "81091759-5a01-413b-a19c-7c95d6e69c13",
   "metadata": {},
   "outputs": [],
   "source": [
    "Ans: \n",
    "     print( ) function.\n",
    "type( ) function.\n",
    "input( ) function.\n",
    "abs( ) function.\n",
    "pow( ) function.\n",
    "dir( ) function.\n",
    "sorted( ) function.\n",
    "max( ) function.    "
   ]
  },
  {
   "cell_type": "code",
   "execution_count": null,
   "id": "87ab9216-ebc7-4f50-b1bf-8efe41269310",
   "metadata": {},
   "outputs": [],
   "source": [
    "12. What is the maximum possible length of an identifier in python?"
   ]
  },
  {
   "cell_type": "code",
   "execution_count": null,
   "id": "8aa31a3b-f5d7-44df-ba7b-e9622e734ad7",
   "metadata": {},
   "outputs": [],
   "source": [
    "Ans: An identifier can have a maximum length of 79 characters in Python."
   ]
  },
  {
   "cell_type": "code",
   "execution_count": null,
   "id": "05315794-51bc-40b0-ae89-00f31917a012",
   "metadata": {},
   "outputs": [],
   "source": [
    "13. What are the benefits of using python?"
   ]
  },
  {
   "cell_type": "code",
   "execution_count": null,
   "id": "04f50859-1d44-4cd8-875c-1eb9bc6cea7e",
   "metadata": {},
   "outputs": [],
   "source": [
    "Ans: Benifits of python are as follow:\n",
    "Data science.\n",
    "Scientific and mathematical computing.\n",
    "Web development.\n",
    "Finance and trading.\n",
    "System automation and administration.\n",
    "Computer graphics.\n",
    "Basic game development.\n",
    "Security and penetration testing."
   ]
  },
  {
   "cell_type": "code",
   "execution_count": null,
   "id": "737c8915-31f7-49cf-a254-1693e9390c57",
   "metadata": {},
   "outputs": [],
   "source": [
    "14. How is memory managed in python?"
   ]
  },
  {
   "cell_type": "code",
   "execution_count": null,
   "id": "8dc5ba8e-c933-48e9-b5d5-d8af2e627dce",
   "metadata": {},
   "outputs": [],
   "source": [
    "Ans: Memory in Python is managed by Python private heap space. All Python objects and data structures are located in a private heap.\n",
    "This private heap is taken care of by Python Interpreter itself, and a programmer doesn't have access to this private heap."
   ]
  },
  {
   "cell_type": "code",
   "execution_count": null,
   "id": "6b555ee3-f229-4760-9657-b21f6add91b5",
   "metadata": {},
   "outputs": [],
   "source": [
    "15. How to install python on windows and set path variables?"
   ]
  },
  {
   "cell_type": "code",
   "execution_count": null,
   "id": "d8d712f6-12e0-4da6-8098-34c38200b51d",
   "metadata": {},
   "outputs": [],
   "source": [
    "Ans: In the section entitled User Variables, double-click on the entry that says Path. Another window will pop up showing a list of paths.\n",
    "Click the New button and paste the path to your Python executable there. Once that's inserted, select your newly added path and click the Move\n",
    "Up button until it's at the top."
   ]
  },
  {
   "cell_type": "code",
   "execution_count": null,
   "id": "e2cfc13c-e3ea-43e4-af82-16947cb38424",
   "metadata": {},
   "outputs": [],
   "source": [
    "16. Is indentation required in python?"
   ]
  },
  {
   "cell_type": "code",
   "execution_count": null,
   "id": "8154a821-b195-41c9-b0b4-fd72355b1543",
   "metadata": {},
   "outputs": [],
   "source": [
    "Ans: Indentation is mandatory in python to define the blocks of statements. \n",
    "It is preferred to use whitespaces instead of tabs to indent in python"
   ]
  },
  {
   "cell_type": "code",
   "execution_count": null,
   "id": "013a634a-e323-4d42-9ac1-ff650050fe8c",
   "metadata": {},
   "outputs": [],
   "source": []
  }
 ],
 "metadata": {
  "kernelspec": {
   "display_name": "Python 3 (ipykernel)",
   "language": "python",
   "name": "python3"
  },
  "language_info": {
   "codemirror_mode": {
    "name": "ipython",
    "version": 3
   },
   "file_extension": ".py",
   "mimetype": "text/x-python",
   "name": "python",
   "nbconvert_exporter": "python",
   "pygments_lexer": "ipython3",
   "version": "3.10.8"
  }
 },
 "nbformat": 4,
 "nbformat_minor": 5
}
